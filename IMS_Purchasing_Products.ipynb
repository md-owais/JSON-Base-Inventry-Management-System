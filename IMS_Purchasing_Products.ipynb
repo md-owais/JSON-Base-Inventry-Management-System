{
  "nbformat": 4,
  "nbformat_minor": 0,
  "metadata": {
    "colab": {
      "name": "IMS Purchasing_Products.ipynb",
      "provenance": [],
      "collapsed_sections": []
    },
    "kernelspec": {
      "name": "python3",
      "display_name": "Python 3"
    },
    "language_info": {
      "name": "python"
    }
  },
  "cells": [
    {
      "cell_type": "code",
      "metadata": {
        "id": "kKiYpgGwkFX5"
      },
      "source": [
        "record = {\"101\": {\"Name\": \"Apple  Juice\",  \"Price\": 50, \"Quantity\": 1,  \"Discount\" : 5,  \"Category\" : 'A'},\n",
        "          \"102\": {\"Name\": \"Mango  Juice\",  \"Price\": 60, \"Quantity\": 2, \"Discount\" : 10,  \"Category\" : 'B'},\n",
        "          \"103\": {\"Name\": \"Orange  Juice\", \"Price\": 70, \"Quantity\": 3,  \"Discount\" : 15, \"Category\" : 'C'},\n",
        "          \"104\": {\"Name\": \"Pineapple Juice\", \"Price\": 80, \"Quantity\": 4, \"Discount\" : 10, \"Category\": 'A'},\n",
        "          \"105\": {\"Name\": \"Milk  Shake\",  \"Price\": 90,  \"Quantity\": 5,  \"Discount\" : 5,  \"Category\" : 'A'},\n",
        "          \"106\": {\"Name\": \"Badam Shake\", \"Price\": 100,  \"Quantity\": 6, \"Discount\" : 10, \"Category\" :  'B'},\n",
        "          \"107\": {\"Name\": \"Chicken Chilli\", \"Price\": 110, \"Quantity\": 7, \"Discount\" : 10, \"Category\": 'A'},\n",
        "          \"108\": {\"Name\": \"Chockolate Cake\", \"Price\": 120,\"Quantity\": 8, \"Discount\" : 15, \"Category\": 'A'},\n",
        "          \"109\": {\"Name\": \"Ice-cream\",  \"Price\": 130,  \"Quantity\": 9,  \"Discount\" : 20,  \"Category\" : 'D'},\n",
        "          \"110\": {\"Name\": \"Sandwitch\",  \"Price\": 140,  \"Quantity\": 9,  \"Discount\"  : 10, \"Category\" : 'A'},\n",
        "          \"111\": {\"Name\": \"Beet Juice \",  \"Price\": 150, \"Quantity\": 7,  \"Discount\" : 10, \"Category\" : 'B'},\n",
        "          \"112\": {\"Name\": \"Carrot Juice\",  \"Price\": 160, \"Quantity\": 10, \"Discount\" : 15, \"Category\": 'C'},\n",
        "          \"113\": {\"Name\": \"Grape Juice\",  \"Price\": 170, \"Quantity\": 11, \"Discount\" : 25, \"Category\" : 'A'},\n",
        "          \"114\": {\"Name\": \"Tomato Juice\", \"Price\": 180, \"Quantity\": 12, \"Discount\" : 30, \"Category\" : 'D'},\n",
        "          \"115\": {\"Name\": \"Water Bottle\",  \"Price\": 190, \"Quantity\": 15, \"Discount\" : 5, \"Category\" : 'A'},\n",
        "          \"116\": {\"Name\": \"Dairy Milk\",  \"Price\": 200,  \"Quantity\": 17, \"Discount\" : 10, \"Category\" : 'B'},\n",
        "          \"117\": {\"Name\": \"Fifty-Fifty\",  \"Price\": 210, \"Quantity\": 20, \"Discount\" : 15, \"Category\" : 'A'},\n",
        "          \"118\": {\"Name\": \"Marie Gold\",  \"Price\": 220, \"Quantity\": 21,  \"Discount\" : 20, \"Category\" : 'C'},\n",
        "          \"119\": {\"Name\": \"Lolly-pop\",  \"Price\": 230,  \"Quantity\": 22,  \"Discount\" : 25, \"Category\" : 'C'},\n",
        "          \"120\": {\"Name\": \"Good Day\",  \"Price\": 240,  \"Quantity\": 25,  \"Discount\" : 20,  \"Category\" : 'A'},\n",
        "          \"121\": {\"Name\": \"Chaska Maska\",  \"Price\": 250,\"Quantity\": 27, \"Discount\" : 15, \"Category\" : 'A'},\n",
        "          \"122\": {\"Name\": \"Egg Noddle\",  \"Price\": 260, \"Quantity\": 28,  \"Discount\" : 10, \"Category\" : 'A'},\n",
        "          \"123\": {\"Name\": \"Veg  Noddle\",  \"Price\": 270, \"Quantity\": 30, \"Discount\" : 5,  \"Category\" : 'B'},\n",
        "          \"124\": {\"Name\": \"Watermelon\",  \"Price\": 280,  \"Quantity\": 34, \"Discount\" : 10, \"Category\" : 'C'},\n",
        "          \"125\": {\"Name\": \"Stroberry\",  \"Price\": 290,  \"Quantity\": 35,  \"Discount\" : 15, \"Category\" : 'A'},\n",
        "          \"126\": {\"Name\": \"Lemon Juice\", \"Price\": 300, \"Quantity\": 37,  \"Discount\" : 20, \"Category\" : 'D'},\n",
        "          \"127\": {\"Name\": \"Pomegranate\", \"Price\": 400, \"Quantity\": 40, \"Discount\" : 25,  \"Category\" : 'A'},\n",
        "          \"128\": {\"Name\": \"Egg  Pop\",   \"Price\": 30,  \"Quantity\": 12,  \"Discount\" : 5,   \"Category\" : 'A'},\n",
        "          \"129\": {\"Name\": \"Vege  Pop\",  \"Price\": 20,  \"Quantity\": 14,  \"Discount\" : 5,   \"Category\" : 'A'},\n",
        "          \"130\": {\"Name\": \"Sweet Lime\", \"Price\": 100, \"Quantity\": 10, \"Discount\" : 15, \"Category\" : 'A'},}"
      ],
      "execution_count": 25,
      "outputs": []
    },
    {
      "cell_type": "code",
      "metadata": {
        "colab": {
          "base_uri": "https://localhost:8080/"
        },
        "id": "hHPOHFh6lQg4",
        "outputId": "a1664707-7191-41ef-f694-d0e22ba46e22"
      },
      "source": [
        "record"
      ],
      "execution_count": 26,
      "outputs": [
        {
          "output_type": "execute_result",
          "data": {
            "text/plain": [
              "{'101': {'Category': 'A',\n",
              "  'Discount': 5,\n",
              "  'Name': 'Apple  Juice',\n",
              "  'Price': 50,\n",
              "  'Quantity': 1},\n",
              " '102': {'Category': 'B',\n",
              "  'Discount': 10,\n",
              "  'Name': 'Mango  Juice',\n",
              "  'Price': 60,\n",
              "  'Quantity': 2},\n",
              " '103': {'Category': 'C',\n",
              "  'Discount': 15,\n",
              "  'Name': 'Orange  Juice',\n",
              "  'Price': 70,\n",
              "  'Quantity': 3},\n",
              " '104': {'Category': 'A',\n",
              "  'Discount': 10,\n",
              "  'Name': 'Pineapple Juice',\n",
              "  'Price': 80,\n",
              "  'Quantity': 4},\n",
              " '105': {'Category': 'A',\n",
              "  'Discount': 5,\n",
              "  'Name': 'Milk  Shake',\n",
              "  'Price': 90,\n",
              "  'Quantity': 5},\n",
              " '106': {'Category': 'B',\n",
              "  'Discount': 10,\n",
              "  'Name': 'Badam Shake',\n",
              "  'Price': 100,\n",
              "  'Quantity': 6},\n",
              " '107': {'Category': 'A',\n",
              "  'Discount': 10,\n",
              "  'Name': 'Chicken Chilli',\n",
              "  'Price': 110,\n",
              "  'Quantity': 7},\n",
              " '108': {'Category': 'A',\n",
              "  'Discount': 15,\n",
              "  'Name': 'Chockolate Cake',\n",
              "  'Price': 120,\n",
              "  'Quantity': 8},\n",
              " '109': {'Category': 'D',\n",
              "  'Discount': 20,\n",
              "  'Name': 'Ice-cream',\n",
              "  'Price': 130,\n",
              "  'Quantity': 9},\n",
              " '110': {'Category': 'A',\n",
              "  'Discount': 10,\n",
              "  'Name': 'Sandwitch',\n",
              "  'Price': 140,\n",
              "  'Quantity': 9},\n",
              " '111': {'Category': 'B',\n",
              "  'Discount': 10,\n",
              "  'Name': 'Beet Juice ',\n",
              "  'Price': 150,\n",
              "  'Quantity': 7},\n",
              " '112': {'Category': 'C',\n",
              "  'Discount': 15,\n",
              "  'Name': 'Carrot Juice',\n",
              "  'Price': 160,\n",
              "  'Quantity': 10},\n",
              " '113': {'Category': 'A',\n",
              "  'Discount': 25,\n",
              "  'Name': 'Grape Juice',\n",
              "  'Price': 170,\n",
              "  'Quantity': 11},\n",
              " '114': {'Category': 'D',\n",
              "  'Discount': 30,\n",
              "  'Name': 'Tomato Juice',\n",
              "  'Price': 180,\n",
              "  'Quantity': 12},\n",
              " '115': {'Category': 'A',\n",
              "  'Discount': 5,\n",
              "  'Name': 'Water Bottle',\n",
              "  'Price': 190,\n",
              "  'Quantity': 15},\n",
              " '116': {'Category': 'B',\n",
              "  'Discount': 10,\n",
              "  'Name': 'Dairy Milk',\n",
              "  'Price': 200,\n",
              "  'Quantity': 17},\n",
              " '117': {'Category': 'A',\n",
              "  'Discount': 15,\n",
              "  'Name': 'Fifty-Fifty',\n",
              "  'Price': 210,\n",
              "  'Quantity': 20},\n",
              " '118': {'Category': 'C',\n",
              "  'Discount': 20,\n",
              "  'Name': 'Marie Gold',\n",
              "  'Price': 220,\n",
              "  'Quantity': 21},\n",
              " '119': {'Category': 'C',\n",
              "  'Discount': 25,\n",
              "  'Name': 'Lolly-pop',\n",
              "  'Price': 230,\n",
              "  'Quantity': 22},\n",
              " '120': {'Category': 'A',\n",
              "  'Discount': 20,\n",
              "  'Name': 'Good Day',\n",
              "  'Price': 240,\n",
              "  'Quantity': 25},\n",
              " '121': {'Category': 'A',\n",
              "  'Discount': 15,\n",
              "  'Name': 'Chaska Maska',\n",
              "  'Price': 250,\n",
              "  'Quantity': 27},\n",
              " '122': {'Category': 'A',\n",
              "  'Discount': 10,\n",
              "  'Name': 'Egg Noddle',\n",
              "  'Price': 260,\n",
              "  'Quantity': 28},\n",
              " '123': {'Category': 'B',\n",
              "  'Discount': 5,\n",
              "  'Name': 'Veg  Noddle',\n",
              "  'Price': 270,\n",
              "  'Quantity': 30},\n",
              " '124': {'Category': 'C',\n",
              "  'Discount': 10,\n",
              "  'Name': 'Watermelon',\n",
              "  'Price': 280,\n",
              "  'Quantity': 34},\n",
              " '125': {'Category': 'A',\n",
              "  'Discount': 15,\n",
              "  'Name': 'Stroberry',\n",
              "  'Price': 290,\n",
              "  'Quantity': 35},\n",
              " '126': {'Category': 'D',\n",
              "  'Discount': 20,\n",
              "  'Name': 'Lemon Juice',\n",
              "  'Price': 300,\n",
              "  'Quantity': 37},\n",
              " '127': {'Category': 'A',\n",
              "  'Discount': 25,\n",
              "  'Name': 'Pomegranate',\n",
              "  'Price': 400,\n",
              "  'Quantity': 40},\n",
              " '128': {'Category': 'A',\n",
              "  'Discount': 5,\n",
              "  'Name': 'Egg  Pop',\n",
              "  'Price': 30,\n",
              "  'Quantity': 12},\n",
              " '129': {'Category': 'A',\n",
              "  'Discount': 5,\n",
              "  'Name': 'Vege  Pop',\n",
              "  'Price': 20,\n",
              "  'Quantity': 14},\n",
              " '130': {'Category': 'A',\n",
              "  'Discount': 15,\n",
              "  'Name': 'Sweet Lime',\n",
              "  'Price': 100,\n",
              "  'Quantity': 10}}"
            ]
          },
          "metadata": {},
          "execution_count": 26
        }
      ]
    },
    {
      "cell_type": "code",
      "metadata": {
        "colab": {
          "base_uri": "https://localhost:8080/",
          "height": 35
        },
        "id": "l4_O88oelQjf",
        "outputId": "2d5de352-04ef-461c-d254-25dce274bfba"
      },
      "source": [
        "record['130'][\"Name\"]"
      ],
      "execution_count": 27,
      "outputs": [
        {
          "output_type": "execute_result",
          "data": {
            "application/vnd.google.colaboratory.intrinsic+json": {
              "type": "string"
            },
            "text/plain": [
              "'Sweet Lime'"
            ]
          },
          "metadata": {},
          "execution_count": 27
        }
      ]
    },
    {
      "cell_type": "code",
      "metadata": {
        "colab": {
          "base_uri": "https://localhost:8080/"
        },
        "id": "MEZXtC6llQmP",
        "outputId": "8258388f-ac3e-4ba1-bde6-546cbe7c6318"
      },
      "source": [
        "reg = '130'\n",
        "\n",
        "print(record[reg]['Name'])\n",
        "print(record[reg]['Quantity'])\n",
        "print(record[reg]['Price'])\n",
        "print(record[reg]['Discount'])\n",
        "print(record[reg]['Category'])"
      ],
      "execution_count": 28,
      "outputs": [
        {
          "output_type": "stream",
          "name": "stdout",
          "text": [
            "Sweet Lime\n",
            "10\n",
            "100\n",
            "15\n",
            "A\n"
          ]
        }
      ]
    },
    {
      "cell_type": "code",
      "metadata": {
        "id": "rlGI7RiXlQpf"
      },
      "source": [
        "import json"
      ],
      "execution_count": 29,
      "outputs": []
    },
    {
      "cell_type": "code",
      "metadata": {
        "id": "7XizM0YvlQsz"
      },
      "source": [
        "js = json.dumps(record)"
      ],
      "execution_count": 30,
      "outputs": []
    },
    {
      "cell_type": "code",
      "metadata": {
        "colab": {
          "base_uri": "https://localhost:8080/",
          "height": 221
        },
        "id": "zOlYgy_Am6QK",
        "outputId": "c2d33084-bb11-4411-b26d-988804ff07c6"
      },
      "source": [
        "js"
      ],
      "execution_count": 31,
      "outputs": [
        {
          "output_type": "execute_result",
          "data": {
            "application/vnd.google.colaboratory.intrinsic+json": {
              "type": "string"
            },
            "text/plain": [
              "'{\"101\": {\"Name\": \"Apple  Juice\", \"Price\": 50, \"Quantity\": 1, \"Discount\": 5, \"Category\": \"A\"}, \"102\": {\"Name\": \"Mango  Juice\", \"Price\": 60, \"Quantity\": 2, \"Discount\": 10, \"Category\": \"B\"}, \"103\": {\"Name\": \"Orange  Juice\", \"Price\": 70, \"Quantity\": 3, \"Discount\": 15, \"Category\": \"C\"}, \"104\": {\"Name\": \"Pineapple Juice\", \"Price\": 80, \"Quantity\": 4, \"Discount\": 10, \"Category\": \"A\"}, \"105\": {\"Name\": \"Milk  Shake\", \"Price\": 90, \"Quantity\": 5, \"Discount\": 5, \"Category\": \"A\"}, \"106\": {\"Name\": \"Badam Shake\", \"Price\": 100, \"Quantity\": 6, \"Discount\": 10, \"Category\": \"B\"}, \"107\": {\"Name\": \"Chicken Chilli\", \"Price\": 110, \"Quantity\": 7, \"Discount\": 10, \"Category\": \"A\"}, \"108\": {\"Name\": \"Chockolate Cake\", \"Price\": 120, \"Quantity\": 8, \"Discount\": 15, \"Category\": \"A\"}, \"109\": {\"Name\": \"Ice-cream\", \"Price\": 130, \"Quantity\": 9, \"Discount\": 20, \"Category\": \"D\"}, \"110\": {\"Name\": \"Sandwitch\", \"Price\": 140, \"Quantity\": 9, \"Discount\": 10, \"Category\": \"A\"}, \"111\": {\"Name\": \"Beet Juice \", \"Price\": 150, \"Quantity\": 7, \"Discount\": 10, \"Category\": \"B\"}, \"112\": {\"Name\": \"Carrot Juice\", \"Price\": 160, \"Quantity\": 10, \"Discount\": 15, \"Category\": \"C\"}, \"113\": {\"Name\": \"Grape Juice\", \"Price\": 170, \"Quantity\": 11, \"Discount\": 25, \"Category\": \"A\"}, \"114\": {\"Name\": \"Tomato Juice\", \"Price\": 180, \"Quantity\": 12, \"Discount\": 30, \"Category\": \"D\"}, \"115\": {\"Name\": \"Water Bottle\", \"Price\": 190, \"Quantity\": 15, \"Discount\": 5, \"Category\": \"A\"}, \"116\": {\"Name\": \"Dairy Milk\", \"Price\": 200, \"Quantity\": 17, \"Discount\": 10, \"Category\": \"B\"}, \"117\": {\"Name\": \"Fifty-Fifty\", \"Price\": 210, \"Quantity\": 20, \"Discount\": 15, \"Category\": \"A\"}, \"118\": {\"Name\": \"Marie Gold\", \"Price\": 220, \"Quantity\": 21, \"Discount\": 20, \"Category\": \"C\"}, \"119\": {\"Name\": \"Lolly-pop\", \"Price\": 230, \"Quantity\": 22, \"Discount\": 25, \"Category\": \"C\"}, \"120\": {\"Name\": \"Good Day\", \"Price\": 240, \"Quantity\": 25, \"Discount\": 20, \"Category\": \"A\"}, \"121\": {\"Name\": \"Chaska Maska\", \"Price\": 250, \"Quantity\": 27, \"Discount\": 15, \"Category\": \"A\"}, \"122\": {\"Name\": \"Egg Noddle\", \"Price\": 260, \"Quantity\": 28, \"Discount\": 10, \"Category\": \"A\"}, \"123\": {\"Name\": \"Veg  Noddle\", \"Price\": 270, \"Quantity\": 30, \"Discount\": 5, \"Category\": \"B\"}, \"124\": {\"Name\": \"Watermelon\", \"Price\": 280, \"Quantity\": 34, \"Discount\": 10, \"Category\": \"C\"}, \"125\": {\"Name\": \"Stroberry\", \"Price\": 290, \"Quantity\": 35, \"Discount\": 15, \"Category\": \"A\"}, \"126\": {\"Name\": \"Lemon Juice\", \"Price\": 300, \"Quantity\": 37, \"Discount\": 20, \"Category\": \"D\"}, \"127\": {\"Name\": \"Pomegranate\", \"Price\": 400, \"Quantity\": 40, \"Discount\": 25, \"Category\": \"A\"}, \"128\": {\"Name\": \"Egg  Pop\", \"Price\": 30, \"Quantity\": 12, \"Discount\": 5, \"Category\": \"A\"}, \"129\": {\"Name\": \"Vege  Pop\", \"Price\": 20, \"Quantity\": 14, \"Discount\": 5, \"Category\": \"A\"}, \"130\": {\"Name\": \"Sweet Lime\", \"Price\": 100, \"Quantity\": 10, \"Discount\": 15, \"Category\": \"A\"}}'"
            ]
          },
          "metadata": {},
          "execution_count": 31
        }
      ]
    },
    {
      "cell_type": "code",
      "metadata": {
        "id": "tev22Ns-m6Te"
      },
      "source": [
        "fd = open(\"record.json\",'w')\n",
        "\n",
        "fd.write(js)\n",
        "\n",
        "fd.close()"
      ],
      "execution_count": 32,
      "outputs": []
    },
    {
      "cell_type": "markdown",
      "metadata": {
        "id": "i1yas3EEMM6c"
      },
      "source": [
        "**Read Inventry**"
      ]
    },
    {
      "cell_type": "code",
      "metadata": {
        "id": "eRX89It1m6Xd"
      },
      "source": [
        "import json\n",
        "\n",
        "fd = open(\"record.json\",'r')\n",
        "r = fd.read()\n",
        "fd.close()\n",
        "\n",
        "records = json.loads(r)"
      ],
      "execution_count": 33,
      "outputs": []
    },
    {
      "cell_type": "code",
      "metadata": {
        "colab": {
          "base_uri": "https://localhost:8080/"
        },
        "id": "TtZ48rCfm6as",
        "outputId": "00447955-71c6-49e1-9f44-67641591c727"
      },
      "source": [
        "records"
      ],
      "execution_count": 34,
      "outputs": [
        {
          "output_type": "execute_result",
          "data": {
            "text/plain": [
              "{'101': {'Category': 'A',\n",
              "  'Discount': 5,\n",
              "  'Name': 'Apple  Juice',\n",
              "  'Price': 50,\n",
              "  'Quantity': 1},\n",
              " '102': {'Category': 'B',\n",
              "  'Discount': 10,\n",
              "  'Name': 'Mango  Juice',\n",
              "  'Price': 60,\n",
              "  'Quantity': 2},\n",
              " '103': {'Category': 'C',\n",
              "  'Discount': 15,\n",
              "  'Name': 'Orange  Juice',\n",
              "  'Price': 70,\n",
              "  'Quantity': 3},\n",
              " '104': {'Category': 'A',\n",
              "  'Discount': 10,\n",
              "  'Name': 'Pineapple Juice',\n",
              "  'Price': 80,\n",
              "  'Quantity': 4},\n",
              " '105': {'Category': 'A',\n",
              "  'Discount': 5,\n",
              "  'Name': 'Milk  Shake',\n",
              "  'Price': 90,\n",
              "  'Quantity': 5},\n",
              " '106': {'Category': 'B',\n",
              "  'Discount': 10,\n",
              "  'Name': 'Badam Shake',\n",
              "  'Price': 100,\n",
              "  'Quantity': 6},\n",
              " '107': {'Category': 'A',\n",
              "  'Discount': 10,\n",
              "  'Name': 'Chicken Chilli',\n",
              "  'Price': 110,\n",
              "  'Quantity': 7},\n",
              " '108': {'Category': 'A',\n",
              "  'Discount': 15,\n",
              "  'Name': 'Chockolate Cake',\n",
              "  'Price': 120,\n",
              "  'Quantity': 8},\n",
              " '109': {'Category': 'D',\n",
              "  'Discount': 20,\n",
              "  'Name': 'Ice-cream',\n",
              "  'Price': 130,\n",
              "  'Quantity': 9},\n",
              " '110': {'Category': 'A',\n",
              "  'Discount': 10,\n",
              "  'Name': 'Sandwitch',\n",
              "  'Price': 140,\n",
              "  'Quantity': 9},\n",
              " '111': {'Category': 'B',\n",
              "  'Discount': 10,\n",
              "  'Name': 'Beet Juice ',\n",
              "  'Price': 150,\n",
              "  'Quantity': 7},\n",
              " '112': {'Category': 'C',\n",
              "  'Discount': 15,\n",
              "  'Name': 'Carrot Juice',\n",
              "  'Price': 160,\n",
              "  'Quantity': 10},\n",
              " '113': {'Category': 'A',\n",
              "  'Discount': 25,\n",
              "  'Name': 'Grape Juice',\n",
              "  'Price': 170,\n",
              "  'Quantity': 11},\n",
              " '114': {'Category': 'D',\n",
              "  'Discount': 30,\n",
              "  'Name': 'Tomato Juice',\n",
              "  'Price': 180,\n",
              "  'Quantity': 12},\n",
              " '115': {'Category': 'A',\n",
              "  'Discount': 5,\n",
              "  'Name': 'Water Bottle',\n",
              "  'Price': 190,\n",
              "  'Quantity': 15},\n",
              " '116': {'Category': 'B',\n",
              "  'Discount': 10,\n",
              "  'Name': 'Dairy Milk',\n",
              "  'Price': 200,\n",
              "  'Quantity': 17},\n",
              " '117': {'Category': 'A',\n",
              "  'Discount': 15,\n",
              "  'Name': 'Fifty-Fifty',\n",
              "  'Price': 210,\n",
              "  'Quantity': 20},\n",
              " '118': {'Category': 'C',\n",
              "  'Discount': 20,\n",
              "  'Name': 'Marie Gold',\n",
              "  'Price': 220,\n",
              "  'Quantity': 21},\n",
              " '119': {'Category': 'C',\n",
              "  'Discount': 25,\n",
              "  'Name': 'Lolly-pop',\n",
              "  'Price': 230,\n",
              "  'Quantity': 22},\n",
              " '120': {'Category': 'A',\n",
              "  'Discount': 20,\n",
              "  'Name': 'Good Day',\n",
              "  'Price': 240,\n",
              "  'Quantity': 25},\n",
              " '121': {'Category': 'A',\n",
              "  'Discount': 15,\n",
              "  'Name': 'Chaska Maska',\n",
              "  'Price': 250,\n",
              "  'Quantity': 27},\n",
              " '122': {'Category': 'A',\n",
              "  'Discount': 10,\n",
              "  'Name': 'Egg Noddle',\n",
              "  'Price': 260,\n",
              "  'Quantity': 28},\n",
              " '123': {'Category': 'B',\n",
              "  'Discount': 5,\n",
              "  'Name': 'Veg  Noddle',\n",
              "  'Price': 270,\n",
              "  'Quantity': 30},\n",
              " '124': {'Category': 'C',\n",
              "  'Discount': 10,\n",
              "  'Name': 'Watermelon',\n",
              "  'Price': 280,\n",
              "  'Quantity': 34},\n",
              " '125': {'Category': 'A',\n",
              "  'Discount': 15,\n",
              "  'Name': 'Stroberry',\n",
              "  'Price': 290,\n",
              "  'Quantity': 35},\n",
              " '126': {'Category': 'D',\n",
              "  'Discount': 20,\n",
              "  'Name': 'Lemon Juice',\n",
              "  'Price': 300,\n",
              "  'Quantity': 37},\n",
              " '127': {'Category': 'A',\n",
              "  'Discount': 25,\n",
              "  'Name': 'Pomegranate',\n",
              "  'Price': 400,\n",
              "  'Quantity': 40},\n",
              " '128': {'Category': 'A',\n",
              "  'Discount': 5,\n",
              "  'Name': 'Egg  Pop',\n",
              "  'Price': 30,\n",
              "  'Quantity': 12},\n",
              " '129': {'Category': 'A',\n",
              "  'Discount': 5,\n",
              "  'Name': 'Vege  Pop',\n",
              "  'Price': 20,\n",
              "  'Quantity': 14},\n",
              " '130': {'Category': 'A',\n",
              "  'Discount': 15,\n",
              "  'Name': 'Sweet Lime',\n",
              "  'Price': 100,\n",
              "  'Quantity': 10}}"
            ]
          },
          "metadata": {},
          "execution_count": 34
        }
      ]
    },
    {
      "cell_type": "markdown",
      "metadata": {
        "id": "DlJFwOYYM0bB"
      },
      "source": [
        "**Purchased Product & Total Amount**"
      ]
    },
    {
      "cell_type": "code",
      "metadata": {
        "colab": {
          "base_uri": "https://localhost:8080/"
        },
        "id": "B2ezx8Wtm6eI",
        "outputId": "fd9f317d-2eb3-465c-cb16-e6335d234366"
      },
      "source": [
        "import time\n",
        "ui_prod  = str(input(\"Enter the product_Id: \"))\n",
        "ui_quantity = int(input(\"Enter the quantity: \"))\n",
        "print(\"*********TOTAL BILL**********************\")\n",
        "print(\"Product: \", records[ui_prod]['Name'])\n",
        "print(\"Price: \", records[ui_prod]['Price'])\n",
        "print(\"Discount: \", records[ui_prod]['Discount'])\n",
        "print(\"Category: \", records[ui_prod]['Category'])\n",
        "print(\"Billing Amount: \", records[ui_prod]['Price'] * ui_quantity)\n",
        "print(\"-----------------------------------------\")\n",
        "records[ui_prod]['Quantity'] = records[ui_prod]['Quantity'] - ui_quantity\n",
        "Time = time.ctime()\n",
        "print(Time)\n",
        "print(\"**********THANK YOU VISIT AGAIN***********\")"
      ],
      "execution_count": 35,
      "outputs": [
        {
          "output_type": "stream",
          "name": "stdout",
          "text": [
            "Enter the product_Id: 101\n",
            "Enter the quantity: 5\n",
            "*********TOTAL BILL**********************\n",
            "Product:  Apple  Juice\n",
            "Price:  50\n",
            "Discount:  5\n",
            "Category:  A\n",
            "Billing Amount:  250\n",
            "-----------------------------------------\n",
            "Mon Sep  6 13:20:53 2021\n",
            "**********THANK YOU VISIT AGAIN***********\n"
          ]
        }
      ]
    },
    {
      "cell_type": "markdown",
      "metadata": {
        "id": "47himdYsNSGy"
      },
      "source": [
        "**Update Inventory After Purchase**"
      ]
    },
    {
      "cell_type": "code",
      "metadata": {
        "id": "DjsbMBosm6ol"
      },
      "source": [
        "js = json.dumps(records)\n",
        "\n",
        "fd = open(\"record.json\",'w')\n",
        "fd.write(js)\n",
        "fd.close()"
      ],
      "execution_count": 36,
      "outputs": []
    },
    {
      "cell_type": "code",
      "metadata": {
        "colab": {
          "base_uri": "https://localhost:8080/"
        },
        "id": "SPx0gx8Sm6z1",
        "outputId": "5cf73f06-23fc-41a9-85d6-5ad5d2c19eb2"
      },
      "source": [
        "{'prod' : ui_prod,  'Quantity' : ui_quantity,  'Amount': records[ui_prod]['Price'] * ui_quantity}"
      ],
      "execution_count": 37,
      "outputs": [
        {
          "output_type": "execute_result",
          "data": {
            "text/plain": [
              "{'Amount': 250, 'Quantity': 5, 'prod': '101'}"
            ]
          },
          "metadata": {},
          "execution_count": 37
        }
      ]
    },
    {
      "cell_type": "code",
      "metadata": {
        "id": "F3Ccj2rlty8R"
      },
      "source": [
        "sales = {1 : {'prod' : ui_prod, 'Quantity' : ui_quantity, 'Amount': records[ui_prod]['Price'] * ui_quantity},\n",
        "         2 : {'prod' : ui_prod, 'Quantity' : ui_quantity, 'Amount': records[ui_prod]['Price'] * ui_quantity},\n",
        "         3 : {'prod' : ui_prod, 'Quantity' : ui_quantity, 'Amount': records[ui_prod]['Price'] * ui_quantity},\n",
        "         4 : {'prod' : ui_prod, 'Quantity' : ui_quantity, 'Amount': records[ui_prod]['Price'] * ui_quantity},\n",
        "         5 : {'prod' : ui_prod, 'Quantity' : ui_quantity, 'Amount': records[ui_prod]['Price'] * ui_quantity},\n",
        "         6 : {'prod' : ui_prod, 'Quantity' : ui_quantity, 'Amount': records[ui_prod]['Price'] * ui_quantity},\n",
        "         7 : {'prod' : ui_prod, 'Quantity' : ui_quantity, 'Amount': records[ui_prod]['Price'] * ui_quantity},\n",
        "         8 : {'prod' : ui_prod, 'Quantity' : ui_quantity, 'Amount': records[ui_prod]['Price'] * ui_quantity},\n",
        "         9 : {'prod' : ui_prod, 'Quantity' : ui_quantity, 'Amount': records[ui_prod]['Price'] * ui_quantity},\n",
        "        10 : {'prod' : ui_prod, 'Quantity' : ui_quantity, 'Amount': records[ui_prod]['Price'] * ui_quantity},}"
      ],
      "execution_count": 38,
      "outputs": []
    },
    {
      "cell_type": "code",
      "metadata": {
        "id": "JQ0RLVyPtzIf"
      },
      "source": [
        "sale = json.dumps(sales)"
      ],
      "execution_count": 44,
      "outputs": []
    },
    {
      "cell_type": "code",
      "metadata": {
        "id": "Oc3pgQHQRq-Q"
      },
      "source": [
        "fd = open(\"sales.json\", 'w')\n",
        "fd.write(sale)\n",
        "fd.close()"
      ],
      "execution_count": 45,
      "outputs": []
    },
    {
      "cell_type": "code",
      "metadata": {
        "colab": {
          "base_uri": "https://localhost:8080/",
          "height": 86
        },
        "id": "RrmfiqKwtzZ6",
        "outputId": "ff8a38ae-842f-4943-f520-dcf88b01ddb0"
      },
      "source": [
        "sale"
      ],
      "execution_count": 46,
      "outputs": [
        {
          "output_type": "execute_result",
          "data": {
            "application/vnd.google.colaboratory.intrinsic+json": {
              "type": "string"
            },
            "text/plain": [
              "'{\"1\": {\"prod\": \"101\", \"Quantity\": 5, \"Amount\": 250}, \"2\": {\"prod\": \"101\", \"Quantity\": 5, \"Amount\": 250}, \"3\": {\"prod\": \"101\", \"Quantity\": 5, \"Amount\": 250}, \"4\": {\"prod\": \"101\", \"Quantity\": 5, \"Amount\": 250}, \"5\": {\"prod\": \"101\", \"Quantity\": 5, \"Amount\": 250}, \"6\": {\"prod\": \"101\", \"Quantity\": 5, \"Amount\": 250}, \"7\": {\"prod\": \"101\", \"Quantity\": 5, \"Amount\": 250}, \"8\": {\"prod\": \"101\", \"Quantity\": 5, \"Amount\": 250}, \"9\": {\"prod\": \"101\", \"Quantity\": 5, \"Amount\": 250}, \"10\": {\"prod\": \"101\", \"Quantity\": 5, \"Amount\": 250}}'"
            ]
          },
          "metadata": {},
          "execution_count": 46
        }
      ]
    },
    {
      "cell_type": "code",
      "metadata": {
        "id": "NbUHE6w-tziz"
      },
      "source": [
        ""
      ],
      "execution_count": null,
      "outputs": []
    }
  ]
}